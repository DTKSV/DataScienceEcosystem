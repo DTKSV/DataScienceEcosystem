{
 "cells": [
  {
   "cell_type": "markdown",
   "id": "cf1d9b0f-ca55-44f7-907d-803c0544b7e4",
   "metadata": {},
   "source": [
    "# Data Science Tools and Ecosystem"
   ]
  },
  {
   "cell_type": "markdown",
   "id": "ae37785e-2266-460d-8b23-6b7fa78b1dd5",
   "metadata": {},
   "source": [
    "In this notebook, Data Science Tools and Ecosystem are summarized."
   ]
  },
  {
   "cell_type": "markdown",
   "id": "2e906cb9-db65-4a05-97d9-495e3bf363dd",
   "metadata": {},
   "source": [
    "## Objectives:\n",
    "\n",
    "- Explore popular languages for Data Science.\n",
    "- Understand key concepts in machine learning.\n",
    "- Learn effective data visualization techniques.\n",
    "- Gain insights into data cleaning and preprocessing.\n",
    "- Familiarize yourself with common data analysis tools and libraries.\n"
   ]
  },
  {
   "cell_type": "markdown",
   "id": "2e57c2dc-0406-48b2-b50f-ccc090af9ef7",
   "metadata": {},
   "source": [
    "Some of the popular languages that Data Scientists use are:\n",
    "\n",
    "1. Python\n",
    "2. R\n",
    "3. Julia"
   ]
  },
  {
   "cell_type": "markdown",
   "id": "02bee813-a45b-4621-b03b-ac9cf6ceca52",
   "metadata": {},
   "source": [
    "Some of the commonly used libraries used by Data Scientists include:\n",
    "\n",
    "1. NumPy\n",
    "2. Pandas\n",
    "3. Matplotlib"
   ]
  },
  {
   "cell_type": "markdown",
   "id": "a73f6978-2db0-4d55-ad96-d814d88de9d3",
   "metadata": {},
   "source": [
    "| Data Science Tools |\n",
    "|--------------------|\n",
    "| Jupyter Notebook   |\n",
    "| RStudio            |\n",
    "| PyCharm            |"
   ]
  },
  {
   "cell_type": "markdown",
   "id": "76ce128d-64a7-46b3-afe7-f5387f67c16d",
   "metadata": {},
   "source": [
    "### Below are a few examples of evaluating arithmetic expressions in Python."
   ]
  },
  {
   "cell_type": "code",
   "execution_count": 1,
   "id": "0ff4108b-e066-438b-ba17-70c22f9daea8",
   "metadata": {
    "tags": []
   },
   "outputs": [
    {
     "data": {
      "text/plain": [
       "17"
      ]
     },
     "execution_count": 1,
     "metadata": {},
     "output_type": "execute_result"
    }
   ],
   "source": [
    "# This is a simple arithmetic expression to multiply then add integers.\n",
    "result = (3 * 4) + 5\n",
    "result"
   ]
  },
  {
   "cell_type": "code",
   "execution_count": 2,
   "id": "e029ca91-9c9a-441b-b101-ffda593bf28c",
   "metadata": {
    "tags": []
   },
   "outputs": [
    {
     "data": {
      "text/plain": [
       "3.3333333333333335"
      ]
     },
     "execution_count": 2,
     "metadata": {},
     "output_type": "execute_result"
    }
   ],
   "source": [
    "# This will convert 200 minutes to hours by dividing by 60.\n",
    "minutes = 200\n",
    "hours = minutes / 60\n",
    "hours"
   ]
  },
  {
   "cell_type": "code",
   "execution_count": null,
   "id": "9ba954e3-10b0-4bff-b2c8-fe126a25b7f9",
   "metadata": {},
   "outputs": [],
   "source": [
    "## Objectives:\n",
    "\n",
    "- Explore popular languages for Data Science.\n",
    "- Understand key concepts in machine learning.\n",
    "- Learn effective data visualization techniques.\n",
    "- Gain insights into data cleaning and preprocessing.\n",
    "- Familiarize yourself with common data analysis tools and libraries.\n"
   ]
  },
  {
   "cell_type": "markdown",
   "id": "80b629f4-d9d4-410e-807a-1d6ae21a3ab2",
   "metadata": {},
   "source": [
    "## Author:\n",
    "\n",
    "Suen Hau Shing\n"
   ]
  },
  {
   "cell_type": "code",
   "execution_count": null,
   "id": "ef7e68f1-d863-4201-8fdc-ff0e647ca4c5",
   "metadata": {},
   "outputs": [],
   "source": []
  }
 ],
 "metadata": {
  "kernelspec": {
   "display_name": "Python",
   "language": "python",
   "name": "conda-env-python-py"
  },
  "language_info": {
   "codemirror_mode": {
    "name": "ipython",
    "version": 3
   },
   "file_extension": ".py",
   "mimetype": "text/x-python",
   "name": "python",
   "nbconvert_exporter": "python",
   "pygments_lexer": "ipython3",
   "version": "3.7.12"
  }
 },
 "nbformat": 4,
 "nbformat_minor": 5
}
